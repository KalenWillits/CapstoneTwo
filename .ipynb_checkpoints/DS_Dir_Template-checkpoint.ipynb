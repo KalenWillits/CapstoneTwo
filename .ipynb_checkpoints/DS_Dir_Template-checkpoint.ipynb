{
 "cells": [
  {
   "cell_type": "code",
   "execution_count": 1,
   "metadata": {},
   "outputs": [
    {
     "name": "stdout",
     "output_type": "stream",
     "text": [
      "mkdir: cannot create directory ‘data’: File exists\n",
      "mkdir: cannot create directory ‘figures’: File exists\n",
      "mkdir: cannot create directory ‘models’: File exists\n",
      "mkdir: cannot create directory ‘DataWrangling’: File exists\n",
      "mkdir: cannot create directory ‘reports’: File exists\n"
     ]
    }
   ],
   "source": [
    "!mkdir data\n",
    "!mkdir figures\n",
    "!mkdir models\n",
    "!mkdir DataWrangling\n",
    "!mkdir reports\n",
    "!mkdir resources\n",
    "!mkdir scripts"
   ]
  },
  {
   "cell_type": "code",
   "execution_count": 3,
   "metadata": {},
   "outputs": [
    {
     "name": "stdout",
     "output_type": "stream",
     "text": [
      ".\t\t\t\t     DS_Dir_Template.ipynb  ProjectIdeas.odt\r\n",
      "..\t\t\t\t     figures\t\t    reports\r\n",
      "Airplane_Crashes_and_Fatalities.csv  .ipynb_checkpoints     sandbox.py\r\n",
      "data\t\t\t\t     models\r\n",
      "DataWrangling\t\t\t     Notes.ipynb\r\n"
     ]
    }
   ],
   "source": [
    "!ls -a"
   ]
  },
  {
   "cell_type": "code",
   "execution_count": null,
   "metadata": {},
   "outputs": [],
   "source": [
    "#load python packages\n",
    "import os\n",
    "import pandas as pd\n",
    "import datetime\n",
    "import seaborn as sns\n",
    "import matplotlib.pyplot as plt\n",
    "import numpy as np\n",
    "#import sklearn\n",
    "%matplotlib inline"
   ]
  }
 ],
 "metadata": {
  "kernelspec": {
   "display_name": "Python 3",
   "language": "python",
   "name": "python3"
  },
  "language_info": {
   "codemirror_mode": {
    "name": "ipython",
    "version": 3
   },
   "file_extension": ".py",
   "mimetype": "text/x-python",
   "name": "python",
   "nbconvert_exporter": "python",
   "pygments_lexer": "ipython3",
   "version": "3.7.6"
  }
 },
 "nbformat": 4,
 "nbformat_minor": 4
}
