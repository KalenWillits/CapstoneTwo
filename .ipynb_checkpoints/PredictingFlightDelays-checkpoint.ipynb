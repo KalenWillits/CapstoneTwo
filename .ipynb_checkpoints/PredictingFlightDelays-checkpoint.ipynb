{
 "cells": [
  {
   "cell_type": "markdown",
   "metadata": {},
   "source": [
    "# Predicting Flight Delays"
   ]
  },
  {
   "cell_type": "markdown",
   "metadata": {},
   "source": [
    "# Choosing columns.\n",
    "While keeping the problem statement in mind, I have selected the columns that will be used to find causalities in flight delays. I hypthesize, that tht most flight delays are due to a chain reaction from one another and orginating from a root delay. \n",
    "\n",
    "I will be leaving out coulumns that can be calculated from other columns to save on space and readability.\n",
    "\n",
    "##### Problem Statment \n",
    "*What factors cause airline flight delays in commercial operations and can those factors be used to predict flight delays within 24 hours with an accuracy of at least 90% enabling air traffic to compensate and recover from said delays improving passenger's experience?*\n",
    "\n"
   ]
  },
  {
   "cell_type": "code",
   "execution_count": 1,
   "metadata": {},
   "outputs": [
    {
     "name": "stdout",
     "output_type": "stream",
     "text": [
      "Column_info.txt\t\t  eda_2.py\t\t\t   README.md\n",
      "data\t\t\t  eda.py\t\t\t   reports\n",
      "data_cleaning_interim.py  exploratory_data_analysis.ipynb  requirements.txt\n",
      "data_cleaning.ipynb\t  figures\t\t\t   sandbox\n",
      "data_cleaning.py\t  map.txt\t\t\t   sandbox.py\n",
      "data_cleaning_wrangle.py  Notes.ipynb\t\t\t   sources\n",
      "DS_Dir_Template.ipynb\t  output.txt\t\t\t   Untitled.ipynb\n"
     ]
    }
   ],
   "source": [
    "!"
   ]
  },
  {
   "cell_type": "code",
   "execution_count": null,
   "metadata": {},
   "outputs": [],
   "source": []
  }
 ],
 "metadata": {
  "kernelspec": {
   "display_name": "Python 3",
   "language": "python",
   "name": "python3"
  },
  "language_info": {
   "codemirror_mode": {
    "name": "ipython",
    "version": 3
   },
   "file_extension": ".py",
   "mimetype": "text/x-python",
   "name": "python",
   "nbconvert_exporter": "python",
   "pygments_lexer": "ipython3",
   "version": "3.7.6"
  }
 },
 "nbformat": 4,
 "nbformat_minor": 4
}
