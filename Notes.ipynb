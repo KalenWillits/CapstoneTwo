{
 "cells": [
  {
   "cell_type": "markdown",
   "metadata": {},
   "source": [
    "\n",
    "Problem: Which flight routes are producing the most fatalities?\n",
    "\n",
    "Summary: Using information from the routes and fatalities, find the the fatality ratio for each route. Then predict which routes are becoming more dangerous or safer and hypothesize reasons for the observations. \n",
    "\n",
    "Data set(s): https://www.kaggle.com/saurograndi/airplane-crashes-since-1908 \n",
    "\n",
    "________________________________________________________________________________\n",
    "\n",
    "Problem: Since smart phones have become more common, How have they affected student test scores?\n",
    "\n",
    "Summary: Correlate trends with iPhone sales and test scores leading to observations  possibly contributing to smart devices affecting education. \n",
    "\n",
    "Data set(s): NYC test scores: https://www.kaggle.com/nycopendata/high-schools, iPhone sales: https://data.world/rflprr/iphone-sales\n",
    "\n",
    "_________________________________________________________________________________\n",
    "\n",
    "Problem: What factors contribute to a successful space launch and how is space launch activity predicted to scale? \n",
    "\n",
    "Summary: Based on the little data given in the Space X data set, I will find trends  that contribute to a successful mission and measure the frequency of space mission activity. Projecting these trends to a predefined point where space launches have become common and determining what are the safest missions for future companies to pursue.  \n",
    "\n",
    "Data set(s): Space x mission status: https://www.kaggle.com/scoleman/spacex-launch-data, Launch projection data: https://www.kaggle.com/rosetabares/spacemissionsflightstatus "
   ]
  },
  {
   "cell_type": "markdown",
   "metadata": {},
   "source": [
    "# [Aircraft Accident Database](https://www.ntsb.gov/_layouts/ntsb.aviation/index.aspx) \n",
    "\n",
    "*I can use this data to attempt my first project idea!*\n",
    "\n",
    "NTSB data: https://data.world/opendatasoft/ntsb-aviation-accident-dataset\n"
   ]
  },
  {
   "cell_type": "markdown",
   "metadata": {},
   "source": []
  },
  {
   "cell_type": "markdown",
   "metadata": {},
   "source": [
    "Given the information at airports, how can we predict flight delays? \n",
    "\n",
    "[Database of flight delays](https://www.bts.gov/content/major-us-air-carrier-delays-Jupyter NotebookNotes Last Checkpoint: 14 hours ago (unsaved changes) Current Kernel LogoPython 3FileEditViewInsertCellKernelWidgetsHelpProblem: Which flight routes are producing the most fatalities?Summary: Using information from the routes and fatalities, find the the fatality ratio for each route. Then predict which routes are becoming more dangerous or safer and hypothesize reasons for the observations.Data set(s): https://www.kaggle.com/saurograndi/airplane-crashes-since-1908Problem: Since smart phones have become more common, How have they affected student test scores?Summary: Correlate trends with iPhone sales and test scores leading to observations possibly contributing to smart devices affecting education.Data set(s): NYC test scores: https://www.kaggle.com/nycopendata/high-schools, iPhone sales: https://data.world/rflprr/iphone-salesProblem: What factors contribute to a successful space launch and how is space launch activity predicted to scale?Summary: Based on the little data given in the Space X data set, I will find trends that contribute to a successful mission and measure the frequency of space mission activity. Projecting these trends to a predefined point where space launches have become common and determining what are the safest missions for future companies to pursue.Data set(s): Space x mission status: https://www.kaggle.com/scoleman/spacex-launch-data, Launch projection data: https://www.kaggle.com/rosetabares/spacemissionsflightstatuscancellations-and-diversions"
   ]
  },
  {
   "cell_type": "markdown",
   "metadata": {},
   "source": [
    "# Current Project Proposal Options\n",
    "\n",
    "- Predicting flight plan delays\n",
    "- Predicting aviation accidents"
   ]
  }
 ],
 "metadata": {
  "kernelspec": {
   "display_name": "Python 3",
   "language": "python",
   "name": "python3"
  },
  "language_info": {
   "codemirror_mode": {
    "name": "ipython",
    "version": 3
   },
   "file_extension": ".py",
   "mimetype": "text/x-python",
   "name": "python",
   "nbconvert_exporter": "python",
   "pygments_lexer": "ipython3",
   "version": "3.7.6"
  }
 },
 "nbformat": 4,
 "nbformat_minor": 4
}
