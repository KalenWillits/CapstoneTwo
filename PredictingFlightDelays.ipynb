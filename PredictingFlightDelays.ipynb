{
 "cells": [
  {
   "cell_type": "markdown",
   "metadata": {},
   "source": [
    "# Predicting Flight Delays"
   ]
  },
  {
   "cell_type": "markdown",
   "metadata": {},
   "source": [
    "### Problem Statment \n",
    "*What factors cause airline flight delays in commercial operations and can those factors be used to predict flight delays within 24 hours with an accuracy of at least 90% enabling air traffic to compensate and recover from said delays improving passenger's experience?*\n",
    "\n"
   ]
  },
  {
   "cell_type": "markdown",
   "metadata": {},
   "source": [
    "## Data Cleaning"
   ]
  },
  {
   "cell_type": "markdown",
   "metadata": {},
   "source": [
    "### Choosing columns.\n",
    "While keeping the problem statement in mind, I have selected the columns that will be used to find causalities in flight delays. I hypthesize, that tht most flight delays are due to a chain reaction from one another and orginating from a root delay. \n",
    "\n",
    "I will be leaving out coulumns that can be calculated from other columns to save on space and readability.\n",
    "\n",
    "\n"
   ]
  },
  {
   "cell_type": "markdown",
   "metadata": {},
   "source": [
    "# Summary\n",
    "\n",
    "1. **DepTime:** Actual Departure Time (local time: hhmm)\n",
    "\n",
    "2. **TaxiOut:** Taxi Out Time, in Minutes\n",
    "\n",
    "3. **TaxiIn:** Taxi In Time, in Minutes\n",
    "\n",
    "4. **ArrTime:** Actual Arrival Time (local time: hhmm)\n",
    "\n",
    "5. **Cancelled:** Cancelled Flight Indicator (1=Yes)\n",
    "\n",
    "6. **Diverted:** Diverted Flight Indicator (1=Yes)\n",
    "\n",
    "7. **AirTime:** Flight Time, in Minutes\n",
    "\n",
    "8. **Distance:** Distance between airports (miles)\n",
    "\n",
    "9. **WeatherDelay:** Weather Delay, in Minutes\n",
    "\n",
    "10. **SecurityDelay:** Security Delay, in Minutes\n",
    "\n",
    "11. **UniqueCarrier:** Unique Carrier Code. When the same code has been used by multiple carriers, a numeric suffix is used for earlier users, for example, PA, PA(1), PA(2). Use this field for analysis across a range of years.\n",
    "\n",
    "12. ***OriginWac:** Origin Airport, World Area Code\n",
    "\n",
    "13. **DestWac:** Destination Airport, World Area Code\n",
    "\n",
    "A list of World Area Codes can be found here: https://en.wikipedia.org/wiki/World_Area_Codes \n",
    "\n",
    "\n"
   ]
  },
  {
   "cell_type": "code",
   "execution_count": 9,
   "metadata": {},
   "outputs": [
    {
     "name": "stdout",
     "output_type": "stream",
     "text": [
      "<class 'pandas.core.frame.DataFrame'>\n",
      "RangeIndex: 450017 entries, 0 to 450016\n",
      "Data columns (total 20 columns):\n",
      " #   Column             Non-Null Count   Dtype  \n",
      "---  ------             --------------   -----  \n",
      " 0   LateAircraftDelay  450017 non-null  float64\n",
      " 1   OriginWac          450017 non-null  int64  \n",
      " 2   DestWac            450017 non-null  int64  \n",
      " 3   TaxiOut            450017 non-null  float64\n",
      " 4   UniqueCarrier      450017 non-null  object \n",
      " 5   FlightDate         450017 non-null  object \n",
      " 6   WeatherDelay       450017 non-null  float64\n",
      " 7   ArrDelay           450017 non-null  float64\n",
      " 8   Origin             450017 non-null  object \n",
      " 9   CarrierDelay       450017 non-null  float64\n",
      " 10  DepDelay           450017 non-null  float64\n",
      " 11  SecurityDelay      450017 non-null  float64\n",
      " 12  Distance           450017 non-null  float64\n",
      " 13  Dest               450017 non-null  object \n",
      " 14  Diverted           450017 non-null  float64\n",
      " 15  AirTime            450017 non-null  float64\n",
      " 16  NASDelay           450017 non-null  float64\n",
      " 17  DepTime            450017 non-null  float64\n",
      " 18  ArrTime            450017 non-null  float64\n",
      " 19  TaxiIn             450017 non-null  float64\n",
      "dtypes: float64(14), int64(2), object(4)\n",
      "memory usage: 68.7+ MB\n",
      "None \n",
      "__Is Null Sum__\n",
      " LateAircraftDelay    0\n",
      "OriginWac            0\n",
      "DestWac              0\n",
      "TaxiOut              0\n",
      "UniqueCarrier        0\n",
      "FlightDate           0\n",
      "WeatherDelay         0\n",
      "ArrDelay             0\n",
      "Origin               0\n",
      "CarrierDelay         0\n",
      "DepDelay             0\n",
      "SecurityDelay        0\n",
      "Distance             0\n",
      "Dest                 0\n",
      "Diverted             0\n",
      "AirTime              0\n",
      "NASDelay             0\n",
      "DepTime              0\n",
      "ArrTime              0\n",
      "TaxiIn               0\n",
      "dtype: int64 \n",
      "__Describe__\n",
      "                       count         mean  ...     75%     max\n",
      "LateAircraftDelay  450017.0     5.416118  ...     0.0  1392.0\n",
      "OriginWac          450017.0    55.814031  ...    82.0    93.0\n",
      "DestWac            450017.0    55.815351  ...    82.0    93.0\n",
      "TaxiOut            450017.0    17.066131  ...    20.0   176.0\n",
      "WeatherDelay       450017.0     0.731381  ...     0.0  1934.0\n",
      "ArrDelay           450017.0     6.794197  ...    11.0  1944.0\n",
      "CarrierDelay       450017.0     4.409062  ...     0.0  1934.0\n",
      "DepDelay           450017.0    11.904459  ...     9.0  2755.0\n",
      "SecurityDelay      450017.0     0.017313  ...     0.0   653.0\n",
      "Distance           450017.0   852.125140  ...  1096.0  4983.0\n",
      "Diverted           450017.0     0.003302  ...     0.0     1.0\n",
      "AirTime            450017.0   118.427863  ...   148.0   704.0\n",
      "NASDelay           450017.0     3.417706  ...     0.0  1457.0\n",
      "DepTime            450017.0  1333.947392  ...  1734.0  2400.0\n",
      "ArrTime            450017.0  1487.332958  ...  1916.0  2400.0\n",
      "TaxiIn             450017.0     7.694634  ...     9.0   413.0\n",
      "\n",
      "[16 rows x 8 columns]\n"
     ]
    }
   ],
   "source": [
    "!python data_cleaning.py"
   ]
  },
  {
   "cell_type": "code",
   "execution_count": null,
   "metadata": {},
   "outputs": [],
   "source": []
  }
 ],
 "metadata": {
  "kernelspec": {
   "display_name": "Python 3",
   "language": "python",
   "name": "python3"
  },
  "language_info": {
   "codemirror_mode": {
    "name": "ipython",
    "version": 3
   },
   "file_extension": ".py",
   "mimetype": "text/x-python",
   "name": "python",
   "nbconvert_exporter": "python",
   "pygments_lexer": "ipython3",
   "version": "3.7.6"
  }
 },
 "nbformat": 4,
 "nbformat_minor": 4
}
